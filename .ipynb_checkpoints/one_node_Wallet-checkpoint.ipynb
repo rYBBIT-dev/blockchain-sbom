{
 "cells": [
  {
   "cell_type": "markdown",
   "id": "d19da799",
   "metadata": {},
   "source": [
    "## Packages Import"
   ]
  },
  {
   "cell_type": "code",
   "execution_count": 1,
   "id": "d205c77b",
   "metadata": {},
   "outputs": [],
   "source": [
    "from flask import Flask\n",
    "from datetime import datetime\n",
    "from flask import render_template\n",
    "from flask import request\n",
    "from flask import url_for\n",
    "from flask import redirect\n",
    "\n",
    "import requests\n",
    "import json\n",
    "import os\n",
    "import pandas as pd"
   ]
  },
  {
   "cell_type": "markdown",
   "id": "c86e64c8",
   "metadata": {},
   "source": [
    "## Flask app 선언"
   ]
  },
  {
   "cell_type": "code",
   "execution_count": 4,
   "id": "d59038b5",
   "metadata": {},
   "outputs": [],
   "source": [
    "app = Flask(__name__, template_folder=os.getcwd())"
   ]
  },
  {
   "cell_type": "markdown",
   "id": "39bad1cf",
   "metadata": {},
   "source": [
    "## login 기능\n",
    "#### 첫 접속시에는 login.html 파일을 랜더링\n",
    "#### POST 방식으로 지갑 주소를 입력한 경우,\n",
    "#### > 알맞은 지갑주소일 경우 wallet.html 파일 랜더링\n",
    "#### > 잘못된 지갑주소일 경우 에러 메시지 띄움"
   ]
  },
  {
   "cell_type": "code",
   "execution_count": 5,
   "id": "124ddcc5",
   "metadata": {},
   "outputs": [],
   "source": [
    "@app.route('/', methods=['GET', 'POST'])\n",
    "def login():\n",
    "    if request.method=='POST':\n",
    "        print(\"login 버튼을 누름\")\n",
    "        input_value = request.form.to_dict(flat=False) ['wallet_id'][0]\n",
    "        print(\"login 지갑주소 : \" , input_value)\n",
    "        ### 기존 user 정보 확인\n",
    "        headers = {'Content-Type' : 'application/json; charset=utf-8'}\n",
    "        res = requests.get(\"http://localhost:5000/chain\", headers=headers)\n",
    "        status_json = json.loads(res.text)\n",
    "        status_json['chain']    \n",
    "        tx_amount_l = []\n",
    "        tx_sender_l = []\n",
    "        tx_reciv_l  = []\n",
    "        tx_time_l   = []\n",
    "        # 거래내역 정리 (df_tx)\n",
    "        for chain_index in range(len(status_json['chain'])):\n",
    "            chain_tx = status_json['chain'][chain_index]['transactions']\n",
    "            for each_tx in range(len(chain_tx)):\n",
    "                tx_amount_l.append(chain_tx[each_tx]['amount'])\n",
    "                tx_sender_l.append(chain_tx[each_tx]['sender'])\n",
    "                tx_reciv_l.append(chain_tx[each_tx]['recipient'])\n",
    "                tx_time_l.append(chain_tx[each_tx]['timestamp'])\n",
    "        df_tx = pd.DataFrame()\n",
    "        df_tx['timestamp'] = tx_time_l  \n",
    "        df_tx['sender'] = tx_sender_l \n",
    "        df_tx['recipient'] = tx_reciv_l\n",
    "        df_tx['amount'] = tx_amount_l   \n",
    "        df_tx\n",
    "\n",
    "        # pyBTC 잔고현황 정리 (df_status)\n",
    "        df_sended = pd.DataFrame(df_tx.groupby('sender')['amount'].sum()).reset_index()\n",
    "        df_sended.columns = ['user','sended_amount']\n",
    "        df_received= pd.DataFrame(df_tx.groupby('recipient')['amount'].sum()).reset_index()\n",
    "        df_received.columns = ['user','received_amount']\n",
    "        df_status = pd.merge(df_received,df_sended, on ='user', how=  'outer').fillna(0)\n",
    "        df_status['balance'] = df_status['received_amount']  - df_status['sended_amount']  \n",
    "        df_status       \n",
    "    \n",
    "        # 결과값 랜더링\n",
    "        if (df_status['user']==input_value ).sum() == 1:\n",
    "            print(\"로그인성공\")\n",
    "            return render_template(\"wallet.html\",  wallet_id = input_value, \n",
    "                                                    wallet_value = df_status[df_status['user']== input_value]['balance'].iloc[0])\n",
    "        else:\n",
    "            return \"잘못된 지갑주소입니다.\"\n",
    "        \n",
    "    return render_template('login1.html')\n"
   ]
  },
  {
   "cell_type": "markdown",
   "id": "d77ae40f",
   "metadata": {},
   "source": [
    "## 지갑 기능\n",
    "#### POST 방식으로 보내는 지갑 주소와 보내는 pyBTC 양이 입력된 경우,\n",
    "#### 해당 지갑주소일 pyBTC 전송"
   ]
  },
  {
   "cell_type": "code",
   "execution_count": 6,
   "id": "c78656c3",
   "metadata": {},
   "outputs": [],
   "source": [
    "@app.route('/wallet', methods=['GET', 'POST'])\n",
    "def wallet():\n",
    "    if request.method=='POST':\n",
    "        send_value = int(request.form.to_dict(flat=False)['send_value'][0] )\n",
    "        send_target = request.form.to_dict(flat=False)['send_target'][0]\n",
    "        send_from = request.form.to_dict(flat=False)['send_from'][0]\n",
    "        print(\"Login Wallet ID : \" ,send_from)\n",
    "        \n",
    "        if send_value > 0:\n",
    "            print(\"Send Amout :\", send_value)\n",
    "            ## transaction 입력하기\n",
    "            headers = {'Content-Type' : 'application/json; charset=utf-8'}\n",
    "            data = {\n",
    "                \"sender\": send_from,\n",
    "                \"recipient\": send_target,\n",
    "                \"amount\": send_value,\n",
    "            }\n",
    "            requests.post(\"http://localhost:5000/transactions/new\", headers=headers, data=json.dumps(data))\n",
    "\n",
    "            return \"전송 완료!\"\n",
    "\n",
    "        else:\n",
    "            return \"0 pyBTC 이상 보내주세요!\"\n",
    "        \n",
    "    return render_template('wallet.html')"
   ]
  },
  {
   "cell_type": "markdown",
   "id": "e924b93f",
   "metadata": {},
   "source": [
    "## 지갑 사이트 실행"
   ]
  },
  {
   "cell_type": "code",
   "execution_count": null,
   "id": "afd75d09",
   "metadata": {},
   "outputs": [
    {
     "name": "stdout",
     "output_type": "stream",
     "text": [
      " * Serving Flask app '__main__'\n",
      " * Debug mode: off\n"
     ]
    },
    {
     "name": "stderr",
     "output_type": "stream",
     "text": [
      "WARNING: This is a development server. Do not use it in a production deployment. Use a production WSGI server instead.\n",
      " * Running on http://127.0.0.1:8081\n",
      "Press CTRL+C to quit\n",
      "127.0.0.1 - - [27/Feb/2024 18:33:12] \"GET / HTTP/1.1\" 200 -\n",
      "127.0.0.1 - - [27/Feb/2024 18:33:13] \"GET /favicon.ico HTTP/1.1\" 404 -\n"
     ]
    },
    {
     "name": "stdout",
     "output_type": "stream",
     "text": [
      "login 버튼을 누름\n",
      "login 지갑주소 :  test_to\n"
     ]
    },
    {
     "name": "stderr",
     "output_type": "stream",
     "text": [
      "127.0.0.1 - - [27/Feb/2024 18:34:07] \"POST / HTTP/1.1\" 200 -\n"
     ]
    },
    {
     "name": "stdout",
     "output_type": "stream",
     "text": [
      "로그인성공\n"
     ]
    }
   ],
   "source": [
    "app.run(port=8081)"
   ]
  },
  {
   "cell_type": "markdown",
   "id": "1bb2e277",
   "metadata": {},
   "source": [
    "### [참고] df_status 에 저장되는 내역"
   ]
  },
  {
   "cell_type": "code",
   "execution_count": null,
   "id": "d4e9b3b8",
   "metadata": {},
   "outputs": [],
   "source": [
    "headers = {'Content-Type' : 'application/json; charset=utf-8'}\n",
    "res = requests.get(\"http://localhost:5000/chain\", headers=headers)\n",
    "\n",
    "status_json = json.loads(res.text)\n",
    "status_json['chain']    \n",
    "tx_amount_l = []\n",
    "tx_sender_l = []\n",
    "tx_reciv_l  = []\n",
    "tx_time_l   = []\n",
    "\n",
    "for chain_index in range(len(status_json['chain'])):\n",
    "    chain_tx = status_json['chain'][chain_index]['transactions']\n",
    "    for each_tx in range(len(chain_tx)):\n",
    "        tx_amount_l.append(chain_tx[each_tx]['amount'])\n",
    "        tx_sender_l.append(chain_tx[each_tx]['sender'])\n",
    "        tx_reciv_l.append(chain_tx[each_tx]['recipient'])\n",
    "        tx_time_l.append(chain_tx[each_tx]['timestamp'])\n",
    "df_tx = pd.DataFrame()\n",
    "df_tx['timestamp'] = tx_time_l  \n",
    "df_tx['sender'] = tx_sender_l \n",
    "df_tx['recipient'] = tx_reciv_l\n",
    "df_tx['amount'] = tx_amount_l   \n",
    "df_tx\n",
    "\n",
    "df_sended = pd.DataFrame(df_tx.groupby('sender')['amount'].sum()).reset_index()\n",
    "df_sended.columns = ['user','sended_amount']\n",
    "df_received= pd.DataFrame(df_tx.groupby('recipient')['amount'].sum()).reset_index()\n",
    "df_received.columns = ['user','received_amount']\n",
    "df_received\n",
    "\n",
    "df_status = pd.merge(df_received,df_sended, on ='user', how=  'outer').fillna(0)\n",
    "df_status['balance'] = df_status['received_amount']  - df_status['sended_amount']  \n",
    "df_status     "
   ]
  },
  {
   "cell_type": "code",
   "execution_count": null,
   "id": "2abf03f5",
   "metadata": {},
   "outputs": [],
   "source": [
    "df_status = pd.merge(df_received,df_sended, on ='user', how=  'outer').fillna(0)\n",
    "df_status['balance'] = df_status['received_amount']  - df_status['sended_amount']  \n",
    "df_status"
   ]
  },
  {
   "cell_type": "code",
   "execution_count": null,
   "id": "47a3c12b",
   "metadata": {},
   "outputs": [],
   "source": [
    "    headers = {'Content-Type' : 'application/json; charset=utf-8'}\n",
    "    res = requests.get(\"http://localhost:5000/chain\", headers=headers)\n",
    "    print(res.text )\n",
    "    print(\"*\"*8)\n",
    "    status_json = json.loads(res.text)\n",
    "    status_json['chain']    \n",
    "    tx_amount_l = []\n",
    "    tx_sender_l = []\n",
    "    tx_reciv_l  = []\n",
    "    tx_time_l   = []\n",
    "\n",
    "    for chain_index in range(len(status_json['chain'])):\n",
    "        chain_tx = status_json['chain'][chain_index]['transactions']\n",
    "        for each_tx in range(len(chain_tx)):\n",
    "            tx_amount_l.append(chain_tx[each_tx]['amount'])\n",
    "            tx_sender_l.append(chain_tx[each_tx]['sender'])\n",
    "            tx_reciv_l.append(chain_tx[each_tx]['recipient'])\n",
    "            tx_time_l.append(chain_tx[each_tx]['timestamp'])\n",
    "\n",
    "    df_tx = pd.DataFrame()\n",
    "    df_tx['timestamp'] = tx_time_l  \n",
    "    df_tx['sender'] = tx_sender_l \n",
    "    df_tx['recipient'] = tx_reciv_l\n",
    "    df_tx['amount'] = tx_amount_l   \n",
    "    df_tx\n",
    "\n",
    "\n",
    "\n",
    "    df_sended = pd.DataFrame(df_tx.groupby('sender')['amount'].sum()).reset_index()\n",
    "    df_sended.columns = ['user','sended_amount']\n",
    "    df_received= pd.DataFrame(df_tx.groupby('recipient')['amount'].sum()).reset_index()\n",
    "    df_received.columns = ['user','received_amount']\n",
    "    df_received\n"
   ]
  },
  {
   "cell_type": "code",
   "execution_count": null,
   "id": "d0acef40",
   "metadata": {},
   "outputs": [],
   "source": [
    "    headers = {'Content-Type' : 'application/json; charset=utf-8'}\n",
    "    res = requests.get(\"http://localhost:5000/chain\", headers=headers)\n",
    "    print(res.text )\n",
    "    print(\"*\"*8)\n",
    "    status_json = json.loads(res.text)\n",
    "    status_json['chain']    \n",
    "    tx_amount_l = []\n",
    "    tx_sender_l = []\n",
    "    tx_reciv_l  = []\n",
    "    tx_time_l   = []\n",
    "\n",
    "    for chain_index in range(len(status_json['chain'])):\n",
    "        chain_tx = status_json['chain'][chain_index]['transactions']\n",
    "        for each_tx in range(len(chain_tx)):\n",
    "            tx_amount_l.append(chain_tx[each_tx]['amount'])\n",
    "            tx_sender_l.append(chain_tx[each_tx]['sender'])\n",
    "            tx_reciv_l.append(chain_tx[each_tx]['recipient'])\n",
    "            tx_time_l.append(chain_tx[each_tx]['timestamp'])\n",
    "\n",
    "    df_tx = pd.DataFrame()\n",
    "    df_tx['timestamp'] = tx_time_l  \n",
    "    df_tx['sender'] = tx_sender_l \n",
    "    df_tx['recipient'] = tx_reciv_l\n",
    "    df_tx['amount'] = tx_amount_l   \n",
    "    df_tx\n",
    "\n",
    "\n",
    "\n",
    "    df_sended = pd.DataFrame(df_tx.groupby('sender')['amount'].sum()).reset_index()\n",
    "    df_sended.columns = ['user','sended_amount']\n",
    "    df_received= pd.DataFrame(df_tx.groupby('recipient')['amount'].sum()).reset_index()\n",
    "    df_received.columns = ['user','received_amount']\n",
    "    df_received\n",
    "    \n",
    "    df_status = pd.merge(df_received,df_sended, on ='user', how=  'outer').fillna(0)\n",
    "    df_status['balance'] = df_status['received_amount']  - df_status['sended_amount']  \n",
    "    df_status\n"
   ]
  },
  {
   "cell_type": "code",
   "execution_count": null,
   "id": "bf6a8352",
   "metadata": {
    "scrolled": true
   },
   "outputs": [],
   "source": [
    "from flask import Flask\n",
    "from datetime import datetime\n",
    "from flask import render_template\n",
    "from flask import request\n",
    "from flask import url_for\n",
    "from flask import redirect\n",
    "\n",
    "import requests\n",
    "import json\n",
    "import os\n",
    "import pandas as pd\n",
    "\n",
    "\n",
    "app = Flask(__name__, template_folder=os.getcwd())\n",
    "\n",
    "@app.route('/', methods=['GET', 'POST'])\n",
    "def login():\n",
    "\n",
    "    if request.method=='POST':\n",
    "        print(\"login 버튼을 누름\")\n",
    "        input_value = request.form.to_dict(flat=False)\n",
    "        print(\"login 지갑주소 : \" , input_value)\n",
    "        \n",
    "        ### 기존 user 정보 확인\n",
    "        headers = {'Content-Type' : 'application/json; charset=utf-8'}\n",
    "        res = requests.get(\"http://localhost:5000/chain\", headers=headers)\n",
    "#         print(res.text )\n",
    "        print(\"*\"*8)\n",
    "        status_json = json.loads(res.text)\n",
    "        status_json['chain']    \n",
    "        tx_amount_l = []\n",
    "        tx_sender_l = []\n",
    "        tx_reciv_l  = []\n",
    "        tx_time_l   = []\n",
    "\n",
    "        for chain_index in range(len(status_json['chain'])):\n",
    "            chain_tx = status_json['chain'][chain_index]['transactions']\n",
    "            for each_tx in range(len(chain_tx)):\n",
    "                tx_amount_l.append(chain_tx[each_tx]['amount'])\n",
    "                tx_sender_l.append(chain_tx[each_tx]['sender'])\n",
    "                tx_reciv_l.append(chain_tx[each_tx]['recipient'])\n",
    "                tx_time_l.append(chain_tx[each_tx]['timestamp'])\n",
    "\n",
    "        df_tx = pd.DataFrame()\n",
    "        df_tx['timestamp'] = tx_time_l  \n",
    "        df_tx['sender'] = tx_sender_l \n",
    "        df_tx['recipient'] = tx_reciv_l\n",
    "        df_tx['amount'] = tx_amount_l   \n",
    "        df_tx\n",
    "\n",
    "\n",
    "\n",
    "        df_sended = pd.DataFrame(df_tx.groupby('sender')['amount'].sum()).reset_index()\n",
    "        df_sended.columns = ['user','sended_amount']\n",
    "        df_received= pd.DataFrame(df_tx.groupby('recipient')['amount'].sum()).reset_index()\n",
    "        df_received.columns = ['user','received_amount']\n",
    "        df_received\n",
    "\n",
    "        df_status = pd.merge(df_received,df_sended, on ='user', how=  'outer').fillna(0)\n",
    "        df_status['balance'] = df_status['received_amount']  - df_status['sended_amount']  \n",
    "        df_status       \n",
    "    \n",
    "    \n",
    "        if (df_status['user']==input_value['wallet_id'][0] ).sum() == 1:\n",
    "            print(\"로그인성공\")\n",
    "            return render_template(\"wallet.html\",  wallet_id = input_value['wallet_id'][0], \n",
    "                                                    wallet_value = df_status[df_status['user']== df_status['user'].iloc[0]]['balance'].iloc[0])\n",
    "        else:\n",
    "            return \"잘못된 지갑주소입니다.\"\n",
    "        \n",
    "    return render_template('login.html')\n",
    "\n",
    "@app.route('/wallet', methods=['GET', 'POST'])\n",
    "def wallet():\n",
    "    if request.method=='POST':\n",
    "        send_value = int(request.form.to_dict(flat=False)['send_value'][0] )\n",
    "        send_target = request.form.to_dict(flat=False)['send_target'][0]\n",
    "        send_from = request.form.to_dict(flat=False)['send_from'][0]\n",
    "        print(\"123123 : \" ,send_from)\n",
    "        \n",
    "        if send_value > 0:\n",
    "            print(send_value)\n",
    "            ## transaction 입력하기\n",
    "            headers = {'Content-Type' : 'application/json; charset=utf-8'}\n",
    "            data = {\n",
    "                \"sender\": send_from,\n",
    "                \"recipient\": send_target,\n",
    "                \"amount\": send_value,\n",
    "            }\n",
    "            requests.post(\"http://localhost:5000/transactions/new\", headers=headers, data=json.dumps(data)).content\n",
    "\n",
    "            return \"전송 완료!\"\n",
    "\n",
    "        else:\n",
    "            return \"0 pyBTC 이상 보내주세요!\"\n",
    "\n",
    "        \n",
    "        \n",
    "    return render_template('wallet.html')\n",
    "    \n",
    "    \n",
    "    \n",
    "app.run(port=8081)\n"
   ]
  },
  {
   "cell_type": "code",
   "execution_count": null,
   "id": "61c9d811",
   "metadata": {},
   "outputs": [],
   "source": [
    "        if (df_received['user']==input_value['wallet_id'][0] ).sum() == 1:\n",
    "            print(\"로그인성공\")\n",
    "            return \"로그인성공!!!!!!\""
   ]
  },
  {
   "cell_type": "code",
   "execution_count": null,
   "id": "825917aa",
   "metadata": {},
   "outputs": [],
   "source": [
    " df_received['user'].iloc[0]"
   ]
  },
  {
   "cell_type": "code",
   "execution_count": null,
   "id": "76ffd63f",
   "metadata": {},
   "outputs": [],
   "source": [
    "df_received[df_received['user']== df_received['user'].iloc[0]]['received_amount'].iloc[0]"
   ]
  },
  {
   "cell_type": "code",
   "execution_count": null,
   "id": "7c9008fe",
   "metadata": {},
   "outputs": [],
   "source": [
    "788490d516fac98d48a2c7bd6ad73e0c183de30a1ccf048c5cc50345aeaaa03b"
   ]
  },
  {
   "cell_type": "code",
   "execution_count": null,
   "id": "43140b37",
   "metadata": {},
   "outputs": [],
   "source": []
  },
  {
   "cell_type": "code",
   "execution_count": null,
   "id": "2b3651a0",
   "metadata": {},
   "outputs": [],
   "source": []
  }
 ],
 "metadata": {
  "kernelspec": {
   "display_name": "Python 3 (ipykernel)",
   "language": "python",
   "name": "python3"
  },
  "language_info": {
   "codemirror_mode": {
    "name": "ipython",
    "version": 3
   },
   "file_extension": ".py",
   "mimetype": "text/x-python",
   "name": "python",
   "nbconvert_exporter": "python",
   "pygments_lexer": "ipython3",
   "version": "3.11.5"
  }
 },
 "nbformat": 4,
 "nbformat_minor": 5
}
