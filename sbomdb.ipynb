{
 "cells": [
  {
   "cell_type": "code",
   "execution_count": 1,
   "id": "bd578ca7-839b-4658-bf09-40bbda0ff6c8",
   "metadata": {},
   "outputs": [],
   "source": [
    "import pymysql\n",
    "\n",
    "# 1. mysql 연결\n",
    "conn = pymysql.connect(\n",
    "    host='127.0.0.1',\n",
    "    user='root',\n",
    "    password='Apple1234@',\n",
    "    db='sbomdb',\n",
    "    charset='utf8'\n",
    ")"
   ]
  },
  {
   "cell_type": "code",
   "execution_count": 2,
   "id": "dffea5aa-fc0a-43ed-a0f6-b15ead6619ee",
   "metadata": {},
   "outputs": [],
   "source": [
    "# 2. 커서 생성하기\n",
    "cur = conn.cursor()"
   ]
  },
  {
   "cell_type": "code",
   "execution_count": 3,
   "id": "bbc48978-f49c-486a-9c24-6b13477fe675",
   "metadata": {},
   "outputs": [
    {
     "data": {
      "text/plain": [
       "0"
      ]
     },
     "execution_count": 3,
     "metadata": {},
     "output_type": "execute_result"
    }
   ],
   "source": [
    "# 3. 테이블 만들기 - 0이 나오면 잘 되는 것\n",
    "cur.execute(\"CREATE TABLE userTable (id char(4), userName char(15), email char(20), birthYear int)\" )"
   ]
  },
  {
   "cell_type": "code",
   "execution_count": 4,
   "id": "4299d092-db9f-47a9-aee6-9a04edb1cabd",
   "metadata": {},
   "outputs": [
    {
     "data": {
      "text/plain": [
       "1"
      ]
     },
     "execution_count": 4,
     "metadata": {},
     "output_type": "execute_result"
    }
   ],
   "source": [
    "# 4. 데이터 입력하기 - 1이 나오면 잘 되는 것\n",
    "cur.execute(\"INSERT INTO userTable VALUES('hong', '홍지윤', 'hong@naver.com', 1996)\")\n",
    "cur.execute(\"INSERT INTO userTable VALUES('kim', '김태연', 'kim@daum.com', 2011)\")\n",
    "cur.execute(\"INSERT INTO userTable VALUES('star', '별사랑', 'star@paran.com', 1990)\")\n",
    "cur.execute(\"INSERT INTO userTable VALUES('yang', '양지은', 'yang@gmail.com', 1993)\")"
   ]
  },
  {
   "cell_type": "code",
   "execution_count": 5,
   "id": "cb22a5db-83a3-4527-a3d5-0a5bc33be5c8",
   "metadata": {},
   "outputs": [],
   "source": [
    "# 5. 입력한 데이터 저장하기\n",
    "conn.commit()"
   ]
  },
  {
   "cell_type": "code",
   "execution_count": 6,
   "id": "2c20a5b7-661a-4438-b4d7-8eb681b5dcde",
   "metadata": {},
   "outputs": [],
   "source": [
    "# 6. MySQL 연결 종료하기\n",
    "conn.close()"
   ]
  }
 ],
 "metadata": {
  "kernelspec": {
   "display_name": "Python 3 (ipykernel)",
   "language": "python",
   "name": "python3"
  },
  "language_info": {
   "codemirror_mode": {
    "name": "ipython",
    "version": 3
   },
   "file_extension": ".py",
   "mimetype": "text/x-python",
   "name": "python",
   "nbconvert_exporter": "python",
   "pygments_lexer": "ipython3",
   "version": "3.11.7"
  }
 },
 "nbformat": 4,
 "nbformat_minor": 5
}
