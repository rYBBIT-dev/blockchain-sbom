{
 "cells": [
  {
   "cell_type": "code",
   "execution_count": 1,
   "id": "e4397b59",
   "metadata": {},
   "outputs": [],
   "source": [
    "import requests\n",
    "import json\n",
    "import pandas as pd\n",
    "import hashlib # hash 함수용 sha256 사용할 라이브러리\n",
    "import random"
   ]
  },
  {
   "cell_type": "markdown",
   "id": "4a2c3864",
   "metadata": {},
   "source": [
    "## 전체 블록 정보 확인"
   ]
  },
  {
   "cell_type": "code",
   "execution_count": 2,
   "id": "26d585ba",
   "metadata": {
    "scrolled": true
   },
   "outputs": [
    {
     "data": {
      "text/plain": [
       "{'chain': [{'index': 1,\n",
       "   'nonce': 100,\n",
       "   'previous_hash': 1,\n",
       "   'timestamp': 1709536808.4830134,\n",
       "   'transactions': []}],\n",
       " 'length': 1}"
      ]
     },
     "execution_count": 2,
     "metadata": {},
     "output_type": "execute_result"
    }
   ],
   "source": [
    "headers = {'Content-Type' : 'application/json; charset=utf-8'}\n",
    "res = requests.get(\"http://localhost:5000/chain\", headers=headers)\n",
    "json.loads(res.content)"
   ]
  },
  {
   "cell_type": "markdown",
   "id": "22f62fb1",
   "metadata": {},
   "source": [
    "## transaction 입력하기"
   ]
  },
  {
   "cell_type": "code",
   "execution_count": 3,
   "id": "fe3958ef",
   "metadata": {},
   "outputs": [
    {
     "data": {
      "text/plain": [
       "b'{\"message\":\"Transaction will be added to Block {2}\"}\\n'"
      ]
     },
     "execution_count": 3,
     "metadata": {},
     "output_type": "execute_result"
    }
   ],
   "source": [
    "# HTTP 헤더 설정\n",
    "headers = {'Content-Type' : 'application/json; charset=utf-8'}\n",
    "\n",
    "# 데이터 정의\n",
    "data = {\n",
    "        \"sender\": \"test_from\",\n",
    "        \"recipient\": \"test_to\",\n",
    "        \"amount\": 3,\n",
    "        \"smart_contract\": {\"contract_address\":\"myaddress\"}\n",
    "}\n",
    "\n",
    "# POST 요청 보내기\n",
    "requests.post(\"http://localhost:5000/transactions/new\", headers=headers, data=json.dumps(data)).content"
   ]
  },
  {
   "cell_type": "markdown",
   "id": "8ffed183",
   "metadata": {},
   "source": [
    "## 노드의 블록정보 확인 - 2"
   ]
  },
  {
   "cell_type": "code",
   "execution_count": 13,
   "id": "cd862740",
   "metadata": {},
   "outputs": [
    {
     "data": {
      "text/plain": [
       "{'chain': [{'index': 1,\n",
       "   'nonce': 100,\n",
       "   'previous_hash': 1,\n",
       "   'timestamp': 1709536808.4830134,\n",
       "   'transactions': []},\n",
       "  {'index': 2,\n",
       "   'nonce': 637419,\n",
       "   'previous_hash': 'b334529fe864af4bba276d9955fe95fab78ae7af785e7a08d888d3780ab56323',\n",
       "   'timestamp': 1709536836.5688844,\n",
       "   'transactions': [{'amount': 3,\n",
       "     'recipient': 'test_to',\n",
       "     'sender': 'test_from',\n",
       "     'timestamp': 1709536831.9970446},\n",
       "    {'amount': 0.1,\n",
       "     'recipient': 'node_5000',\n",
       "     'sender': 'master',\n",
       "     'timestamp': 1709536836.5688844}]},\n",
       "  {'index': 3,\n",
       "   'nonce': -365144,\n",
       "   'previous_hash': 'dfd91ce1d4833a3c10112e99c6881993024bd27abcd46c58ba4f074a17586809',\n",
       "   'timestamp': 1709536844.8701591,\n",
       "   'transactions': [{'amount': 30,\n",
       "     'recipient': 'test_to2',\n",
       "     'sender': 'test_from',\n",
       "     'timestamp': 1709536840.7010465},\n",
       "    {'amount': 300,\n",
       "     'recipient': 'test_to3',\n",
       "     'sender': 'test_from',\n",
       "     'timestamp': 1709536842.729772},\n",
       "    {'amount': 0.1,\n",
       "     'recipient': 'node_5000',\n",
       "     'sender': 'master',\n",
       "     'timestamp': 1709536844.8701591}]},\n",
       "  {'index': 4,\n",
       "   'nonce': 635070,\n",
       "   'previous_hash': 'a02e361f1405bd70c709c2119d97150cf5760c826697435d99cff960993a967f',\n",
       "   'timestamp': 1709537142.3775656,\n",
       "   'transactions': [{'amount': 0.1,\n",
       "     'recipient': 'node_5000',\n",
       "     'sender': 'master',\n",
       "     'timestamp': 1709537142.3775656}]}],\n",
       " 'length': 4}"
      ]
     },
     "execution_count": 13,
     "metadata": {},
     "output_type": "execute_result"
    }
   ],
   "source": [
    "headers = {'Content-Type' : 'application/json; charset=utf-8'}\n",
    "res = requests.get(\"http://localhost:5000/chain\", headers=headers)\n",
    "json.loads(res.content)"
   ]
  },
  {
   "cell_type": "markdown",
   "id": "de078099",
   "metadata": {},
   "source": [
    "##  채굴하기 - 1"
   ]
  },
  {
   "cell_type": "code",
   "execution_count": 18,
   "id": "ca6e8f84",
   "metadata": {},
   "outputs": [
    {
     "name": "stdout",
     "output_type": "stream",
     "text": [
      "<Response [200]>\n"
     ]
    }
   ],
   "source": [
    "headers = {'Content-Type' : 'application/json; charset=utf-8'}\n",
    "res = requests.get(\"http://localhost:5000/mine\")\n",
    "print(res) # 여기서 200은 HTTP 상태 코드로, 요청이 성공적으로 처리되었음을 의미"
   ]
  },
  {
   "cell_type": "markdown",
   "id": "a8f956fe",
   "metadata": {},
   "source": [
    "## 노드의 블록정보 확인 - 3"
   ]
  },
  {
   "cell_type": "code",
   "execution_count": 19,
   "id": "17f93c4a",
   "metadata": {},
   "outputs": [
    {
     "data": {
      "text/plain": [
       "{'chain': [{'index': 1,\n",
       "   'nonce': 100,\n",
       "   'previous_hash': 1,\n",
       "   'timestamp': 1709536808.4830134,\n",
       "   'transactions': []},\n",
       "  {'index': 2,\n",
       "   'nonce': 637419,\n",
       "   'previous_hash': 'b334529fe864af4bba276d9955fe95fab78ae7af785e7a08d888d3780ab56323',\n",
       "   'timestamp': 1709536836.5688844,\n",
       "   'transactions': [{'amount': 3,\n",
       "     'recipient': 'test_to',\n",
       "     'sender': 'test_from',\n",
       "     'timestamp': 1709536831.9970446},\n",
       "    {'amount': 0.1,\n",
       "     'recipient': 'node_5000',\n",
       "     'sender': 'master',\n",
       "     'timestamp': 1709536836.5688844}]},\n",
       "  {'index': 3,\n",
       "   'nonce': -365144,\n",
       "   'previous_hash': 'dfd91ce1d4833a3c10112e99c6881993024bd27abcd46c58ba4f074a17586809',\n",
       "   'timestamp': 1709536844.8701591,\n",
       "   'transactions': [{'amount': 30,\n",
       "     'recipient': 'test_to2',\n",
       "     'sender': 'test_from',\n",
       "     'timestamp': 1709536840.7010465},\n",
       "    {'amount': 300,\n",
       "     'recipient': 'test_to3',\n",
       "     'sender': 'test_from',\n",
       "     'timestamp': 1709536842.729772},\n",
       "    {'amount': 0.1,\n",
       "     'recipient': 'node_5000',\n",
       "     'sender': 'master',\n",
       "     'timestamp': 1709536844.8701591}]},\n",
       "  {'index': 4,\n",
       "   'nonce': 635070,\n",
       "   'previous_hash': 'a02e361f1405bd70c709c2119d97150cf5760c826697435d99cff960993a967f',\n",
       "   'timestamp': 1709537142.3775656,\n",
       "   'transactions': [{'amount': 0.1,\n",
       "     'recipient': 'node_5000',\n",
       "     'sender': 'master',\n",
       "     'timestamp': 1709537142.3775656}]},\n",
       "  {'index': 5,\n",
       "   'nonce': -968265,\n",
       "   'previous_hash': '9ac787fba8fe29c3914da5ed2e17a65915273ad07ab9d459a08b1cde5cdcc43b',\n",
       "   'timestamp': 1709537310.6795485,\n",
       "   'transactions': [{'amount': 3,\n",
       "     'recipient': 'test_to2',\n",
       "     'sender': 'test_to',\n",
       "     'timestamp': 1709537291.1253965},\n",
       "    {'amount': 0.1,\n",
       "     'recipient': 'node_5000',\n",
       "     'sender': 'master',\n",
       "     'timestamp': 1709537310.6795485}]}],\n",
       " 'length': 5}"
      ]
     },
     "execution_count": 19,
     "metadata": {},
     "output_type": "execute_result"
    }
   ],
   "source": [
    "# one_node의 /chain을 통해서 블록정보 확인\n",
    "headers = {'Content-Type' : 'application/json; charset=utf-8'}\n",
    "res = requests.get(\"http://localhost:5000/chain\", headers=headers)\n",
    "json.loads(res.content)"
   ]
  },
  {
   "cell_type": "markdown",
   "id": "cff38e24",
   "metadata": {},
   "source": [
    "## transaction 입력 / 채굴 / 블록정보 확인"
   ]
  },
  {
   "cell_type": "code",
   "execution_count": 7,
   "id": "a1355a99",
   "metadata": {
    "scrolled": false
   },
   "outputs": [
    {
     "name": "stdout",
     "output_type": "stream",
     "text": [
      "<Response [200]>\n"
     ]
    }
   ],
   "source": [
    "## transaction 입력하기 -2\n",
    "headers = {'Content-Type' : 'application/json; charset=utf-8'}\n",
    "data = {\n",
    "        \"sender\": \"test_from\",\n",
    "        \"recipient\": \"test_to2\",\n",
    "    \"amount\": 30,\n",
    "}\n",
    "requests.post(\"http://localhost:5000/transactions/new\", headers=headers, data=json.dumps(data)).content\n",
    "\n",
    "\n",
    "## transaction3 입력하기\n",
    "headers = {'Content-Type' : 'application/json; charset=utf-8'}\n",
    "data = {\n",
    "        \"sender\": \"test_from\",\n",
    "        \"recipient\": \"test_to3\",\n",
    "    \"amount\": 300,\n",
    "}\n",
    "requests.post(\"http://localhost:5000/transactions/new\", headers=headers, data=json.dumps(data)).content\n",
    "\n",
    "\n",
    "##  채굴하기\n",
    "headers = {'Content-Type' : 'application/json; charset=utf-8'}\n",
    "res = requests.get(\"http://localhost:5000/mine\")\n",
    "print(res)\n",
    "\n",
    "\n",
    "## 노드의 블록정보 확인 - 4\n",
    "headers = {'Content-Type' : 'application/json; charset=utf-8'}\n",
    "res = requests.get(\"http://localhost:5000/chain\", headers=headers)"
   ]
  },
  {
   "cell_type": "code",
   "execution_count": 17,
   "id": "748b946c",
   "metadata": {},
   "outputs": [
    {
     "data": {
      "text/plain": [
       "'{\"chain\":[{\"index\":1,\"nonce\":100,\"previous_hash\":1,\"timestamp\":1709536808.4830134,\"transactions\":[]},{\"index\":2,\"nonce\":637419,\"previous_hash\":\"b334529fe864af4bba276d9955fe95fab78ae7af785e7a08d888d3780ab56323\",\"timestamp\":1709536836.5688844,\"transactions\":[{\"amount\":3,\"recipient\":\"test_to\",\"sender\":\"test_from\",\"timestamp\":1709536831.9970446},{\"amount\":0.1,\"recipient\":\"node_5000\",\"sender\":\"master\",\"timestamp\":1709536836.5688844}]},{\"index\":3,\"nonce\":-365144,\"previous_hash\":\"dfd91ce1d4833a3c10112e99c6881993024bd27abcd46c58ba4f074a17586809\",\"timestamp\":1709536844.8701591,\"transactions\":[{\"amount\":30,\"recipient\":\"test_to2\",\"sender\":\"test_from\",\"timestamp\":1709536840.7010465},{\"amount\":300,\"recipient\":\"test_to3\",\"sender\":\"test_from\",\"timestamp\":1709536842.729772},{\"amount\":0.1,\"recipient\":\"node_5000\",\"sender\":\"master\",\"timestamp\":1709536844.8701591}]},{\"index\":4,\"nonce\":635070,\"previous_hash\":\"a02e361f1405bd70c709c2119d97150cf5760c826697435d99cff960993a967f\",\"timestamp\":1709537142.3775656,\"transactions\":[{\"amount\":0.1,\"recipient\":\"node_5000\",\"sender\":\"master\",\"timestamp\":1709537142.3775656}]}],\"length\":4}\\n'"
      ]
     },
     "execution_count": 17,
     "metadata": {},
     "output_type": "execute_result"
    }
   ],
   "source": [
    "res.text"
   ]
  },
  {
   "cell_type": "markdown",
   "id": "6d68c4a3",
   "metadata": {},
   "source": [
    "## Pandas 를 활용한 거래내역 조회"
   ]
  },
  {
   "cell_type": "code",
   "execution_count": 9,
   "id": "fb5a1c13",
   "metadata": {},
   "outputs": [
    {
     "data": {
      "text/html": [
       "<div>\n",
       "<style scoped>\n",
       "    .dataframe tbody tr th:only-of-type {\n",
       "        vertical-align: middle;\n",
       "    }\n",
       "\n",
       "    .dataframe tbody tr th {\n",
       "        vertical-align: top;\n",
       "    }\n",
       "\n",
       "    .dataframe thead th {\n",
       "        text-align: right;\n",
       "    }\n",
       "</style>\n",
       "<table border=\"1\" class=\"dataframe\">\n",
       "  <thead>\n",
       "    <tr style=\"text-align: right;\">\n",
       "      <th></th>\n",
       "      <th>timestamp</th>\n",
       "      <th>sender</th>\n",
       "      <th>recipient</th>\n",
       "      <th>amount</th>\n",
       "    </tr>\n",
       "  </thead>\n",
       "  <tbody>\n",
       "    <tr>\n",
       "      <th>0</th>\n",
       "      <td>1.709537e+09</td>\n",
       "      <td>test_from</td>\n",
       "      <td>test_to</td>\n",
       "      <td>3.0</td>\n",
       "    </tr>\n",
       "    <tr>\n",
       "      <th>1</th>\n",
       "      <td>1.709537e+09</td>\n",
       "      <td>master</td>\n",
       "      <td>node_5000</td>\n",
       "      <td>0.1</td>\n",
       "    </tr>\n",
       "    <tr>\n",
       "      <th>2</th>\n",
       "      <td>1.709537e+09</td>\n",
       "      <td>test_from</td>\n",
       "      <td>test_to2</td>\n",
       "      <td>30.0</td>\n",
       "    </tr>\n",
       "    <tr>\n",
       "      <th>3</th>\n",
       "      <td>1.709537e+09</td>\n",
       "      <td>test_from</td>\n",
       "      <td>test_to3</td>\n",
       "      <td>300.0</td>\n",
       "    </tr>\n",
       "    <tr>\n",
       "      <th>4</th>\n",
       "      <td>1.709537e+09</td>\n",
       "      <td>master</td>\n",
       "      <td>node_5000</td>\n",
       "      <td>0.1</td>\n",
       "    </tr>\n",
       "  </tbody>\n",
       "</table>\n",
       "</div>"
      ],
      "text/plain": [
       "      timestamp     sender  recipient  amount\n",
       "0  1.709537e+09  test_from    test_to     3.0\n",
       "1  1.709537e+09     master  node_5000     0.1\n",
       "2  1.709537e+09  test_from   test_to2    30.0\n",
       "3  1.709537e+09  test_from   test_to3   300.0\n",
       "4  1.709537e+09     master  node_5000     0.1"
      ]
     },
     "execution_count": 9,
     "metadata": {},
     "output_type": "execute_result"
    }
   ],
   "source": [
    "status_json = json.loads(res.text)\n",
    "status_json['chain']    \n",
    "tx_amount_l = []\n",
    "tx_sender_l = []\n",
    "tx_reciv_l  = []\n",
    "tx_time_l   = []\n",
    "\n",
    "for chain_index in range(len(status_json['chain'])):\n",
    "    chain_tx = status_json['chain'][chain_index]['transactions']\n",
    "    for each_tx in range(len(chain_tx)):\n",
    "        tx_amount_l.append(chain_tx[each_tx]['amount'])\n",
    "        tx_sender_l.append(chain_tx[each_tx]['sender'])\n",
    "        tx_reciv_l.append(chain_tx[each_tx]['recipient'])\n",
    "        tx_time_l.append(chain_tx[each_tx]['timestamp'])\n",
    "\n",
    "df_tx = pd.DataFrame()\n",
    "df_tx['timestamp'] = tx_time_l  \n",
    "df_tx['sender'] = tx_sender_l \n",
    "df_tx['recipient'] = tx_reciv_l\n",
    "df_tx['amount'] = tx_amount_l   \n",
    "df_tx"
   ]
  },
  {
   "cell_type": "markdown",
   "id": "39389b1c",
   "metadata": {},
   "source": [
    "## 거래내역 기반 계정별 잔액 조회"
   ]
  },
  {
   "cell_type": "code",
   "execution_count": 16,
   "id": "ff011825",
   "metadata": {},
   "outputs": [
    {
     "data": {
      "text/html": [
       "<div>\n",
       "<style scoped>\n",
       "    .dataframe tbody tr th:only-of-type {\n",
       "        vertical-align: middle;\n",
       "    }\n",
       "\n",
       "    .dataframe tbody tr th {\n",
       "        vertical-align: top;\n",
       "    }\n",
       "\n",
       "    .dataframe thead th {\n",
       "        text-align: right;\n",
       "    }\n",
       "</style>\n",
       "<table border=\"1\" class=\"dataframe\">\n",
       "  <thead>\n",
       "    <tr style=\"text-align: right;\">\n",
       "      <th></th>\n",
       "      <th>user</th>\n",
       "      <th>received_amount</th>\n",
       "      <th>sended_amount</th>\n",
       "      <th>balance</th>\n",
       "    </tr>\n",
       "  </thead>\n",
       "  <tbody>\n",
       "    <tr>\n",
       "      <th>0</th>\n",
       "      <td>node_5000</td>\n",
       "      <td>0.2</td>\n",
       "      <td>0.0</td>\n",
       "      <td>0.2</td>\n",
       "    </tr>\n",
       "    <tr>\n",
       "      <th>1</th>\n",
       "      <td>test_to</td>\n",
       "      <td>3.0</td>\n",
       "      <td>0.0</td>\n",
       "      <td>3.0</td>\n",
       "    </tr>\n",
       "    <tr>\n",
       "      <th>2</th>\n",
       "      <td>test_to2</td>\n",
       "      <td>30.0</td>\n",
       "      <td>0.0</td>\n",
       "      <td>30.0</td>\n",
       "    </tr>\n",
       "    <tr>\n",
       "      <th>3</th>\n",
       "      <td>test_to3</td>\n",
       "      <td>300.0</td>\n",
       "      <td>0.0</td>\n",
       "      <td>300.0</td>\n",
       "    </tr>\n",
       "    <tr>\n",
       "      <th>4</th>\n",
       "      <td>master</td>\n",
       "      <td>0.0</td>\n",
       "      <td>0.2</td>\n",
       "      <td>-0.2</td>\n",
       "    </tr>\n",
       "    <tr>\n",
       "      <th>5</th>\n",
       "      <td>test_from</td>\n",
       "      <td>0.0</td>\n",
       "      <td>333.0</td>\n",
       "      <td>-333.0</td>\n",
       "    </tr>\n",
       "  </tbody>\n",
       "</table>\n",
       "</div>"
      ],
      "text/plain": [
       "        user  received_amount  sended_amount  balance\n",
       "0  node_5000              0.2            0.0      0.2\n",
       "1    test_to              3.0            0.0      3.0\n",
       "2   test_to2             30.0            0.0     30.0\n",
       "3   test_to3            300.0            0.0    300.0\n",
       "4     master              0.0            0.2     -0.2\n",
       "5  test_from              0.0          333.0   -333.0"
      ]
     },
     "execution_count": 16,
     "metadata": {},
     "output_type": "execute_result"
    }
   ],
   "source": [
    "df_sended = pd.DataFrame(df_tx.groupby('sender')['amount'].sum()).reset_index()\n",
    "df_sended.columns = ['user','sended_amount']\n",
    "df_received= pd.DataFrame(df_tx.groupby('recipient')['amount'].sum()).reset_index()\n",
    "df_received.columns = ['user','received_amount']\n",
    "df_received\n",
    "\n",
    "df_status = pd.merge(df_received,df_sended, on ='user', how=  'outer').fillna(0)\n",
    "df_status['balance'] = df_status['received_amount']  - df_status['sended_amount']  \n",
    "df_status"
   ]
  },
  {
   "cell_type": "code",
   "execution_count": null,
   "id": "e41c243b",
   "metadata": {},
   "outputs": [],
   "source": []
  }
 ],
 "metadata": {
  "kernelspec": {
   "display_name": "Python 3 (ipykernel)",
   "language": "python",
   "name": "python3"
  },
  "language_info": {
   "codemirror_mode": {
    "name": "ipython",
    "version": 3
   },
   "file_extension": ".py",
   "mimetype": "text/x-python",
   "name": "python",
   "nbconvert_exporter": "python",
   "pygments_lexer": "ipython3",
   "version": "3.11.5"
  }
 },
 "nbformat": 4,
 "nbformat_minor": 5
}
