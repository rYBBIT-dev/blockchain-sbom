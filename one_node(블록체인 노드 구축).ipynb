{
 "cells": [
  {
   "cell_type": "markdown",
   "id": "09d52509",
   "metadata": {},
   "source": [
    "## 관련 패키지 import"
   ]
  },
  {
   "cell_type": "code",
   "execution_count": 1,
   "id": "6787859c",
   "metadata": {},
   "outputs": [],
   "source": [
    "import hashlib # hash 함수용 sha256\" 사용할 라이브러리\n",
    "import json\n",
    "from time import time\n",
    "import random\n",
    "import requests\n",
    "from flask import Flask, request, jsonify"
   ]
  },
  {
   "cell_type": "markdown",
   "id": "16221830",
   "metadata": {},
   "source": [
    "## Blockchain 객채 생성"
   ]
  },
  {
   "cell_type": "code",
   "execution_count": 2,
   "id": "455e3708",
   "metadata": {},
   "outputs": [],
   "source": [
    "class Blockchain(object):\n",
    "    \n",
    "    def __init__(self):\n",
    "        self.chain = []                                   # chain에 여러 block들 들어옴\n",
    "        self.current_transaction = []                     # 임시 transaction 넣어줌\n",
    "        self.nodes = set()                                # Node 목록을 보관\n",
    "        self.new_block(previous_hash=1, proof=100)        # genesis block 생성\n",
    "\n",
    "    @staticmethod\n",
    "    def hash(block):\n",
    "        block_string = json.dumps(block, sort_keys=True).encode() \n",
    "        return hashlib.sha256(block_string).hexdigest()   # hash 라이브러리로 sha256 사용\n",
    "    @property\n",
    "    def last_block(self):\n",
    "        return self.chain[-1]                             # 체인의 마지막 블록 가져오기!!\n",
    "\n",
    "    @staticmethod\n",
    "    def valid_proof(last_proof, proof):\n",
    "        guess = str(last_proof + proof).encode()          # 전 proof와 구할 proof 문자열 연결\n",
    "        guess_hash = hashlib.sha256(guess).hexdigest()    # 이 hash 값 저장\n",
    "        return guess_hash[:4] == \"0000\"                  # 앞 4자리가 0000 이면 True (알맞은 nonce값을 찾음)\n",
    "\n",
    "    def pow(self, last_proof):\n",
    "        proof = random.randint(-1000000,1000000)\n",
    "        while self.valid_proof(last_proof, proof) is False: # valid proof 함수 활용(아래 나옴), 맞을 때까지 반복적으로 검증\n",
    "            proof = random.randint(-1000000,1000000)\n",
    "        return proof\n",
    "\n",
    "    def new_transaction(self, sender, recipient, amount):\n",
    "        self.current_transaction.append(\n",
    "            {\n",
    "                'sender' : sender, # 송신자\n",
    "                'recipient' : recipient, # 수신자\n",
    "                'amount' : amount, # 금액\n",
    "                'timestamp':time()\n",
    "            }\n",
    "        )\n",
    "        return self.last_block['index'] + 1   \n",
    "\n",
    "    def new_block(self, proof, previous_hash=None):\n",
    "        block = {\n",
    "            'index' : len(self.chain)+1,\n",
    "            'timestamp' : time(), # timestamp from 1970\n",
    "            'transactions' : self.current_transaction,\n",
    "            'nonce' : proof,\n",
    "            'previous_hash' : previous_hash or self.hash(self.chain[-1]),\n",
    "        }\n",
    "        self.current_transaction = []\n",
    "        self.chain.append(block)     \n",
    "        return block\n",
    "\n",
    "    def valid_chain(self, chain):\n",
    "        last_block = chain[0] \n",
    "        current_index = 1\n",
    "\n",
    "        while current_index < len(chain): \n",
    "            block = chain[current_index]\n",
    "            print('%s' % last_block)\n",
    "            print('%s' % block)\n",
    "            print(\"\\n--------\\n\")\n",
    "            if block['previous_hash'] != self.hash(last_block):\n",
    "                return False\n",
    "            last_block = block\n",
    "            current_index += 1\n",
    "        return True\n"
   ]
  },
  {
   "cell_type": "markdown",
   "id": "cccc5e32",
   "metadata": {},
   "source": [
    "## Blockchain 객채를 기반으로 노드 생성"
   ]
  },
  {
   "cell_type": "code",
   "execution_count": 3,
   "id": "fdd2e589",
   "metadata": {},
   "outputs": [],
   "source": [
    "blockchain = Blockchain()\n",
    "my_ip = '0.0.0.0'\n",
    "my_port = '5000'\n",
    "node_identifier = 'node_'+my_port\n",
    "mine_owner = 'master'\n",
    "mine_profit = 0.1"
   ]
  },
  {
   "cell_type": "code",
   "execution_count": null,
   "id": "2228cdbe",
   "metadata": {},
   "outputs": [
    {
     "name": "stdout",
     "output_type": "stream",
     "text": [
      " * Serving Flask app '__main__'\n",
      " * Debug mode: off\n"
     ]
    },
    {
     "name": "stderr",
     "output_type": "stream",
     "text": [
      "WARNING: This is a development server. Do not use it in a production deployment. Use a production WSGI server instead.\n",
      " * Running on all addresses (0.0.0.0)\n",
      " * Running on http://127.0.0.1:5000\n",
      " * Running on http://192.168.123.104:5000\n",
      "Press CTRL+C to quit\n",
      "127.0.0.1 - - [27/Feb/2024 19:10:10] \"GET /chain HTTP/1.1\" 200 -\n"
     ]
    },
    {
     "name": "stdout",
     "output_type": "stream",
     "text": [
      "chain info requested!!\n"
     ]
    },
    {
     "name": "stderr",
     "output_type": "stream",
     "text": [
      "127.0.0.1 - - [27/Feb/2024 19:11:09] \"POST /transactions/new HTTP/1.1\" 201 -\n"
     ]
    },
    {
     "name": "stdout",
     "output_type": "stream",
     "text": [
      "transactions_new!!! :  {'sender': 'test_from', 'recipient': 'test_to2', 'amount': 30}\n"
     ]
    },
    {
     "name": "stderr",
     "output_type": "stream",
     "text": [
      "127.0.0.1 - - [27/Feb/2024 19:11:11] \"POST /transactions/new HTTP/1.1\" 201 -\n"
     ]
    },
    {
     "name": "stdout",
     "output_type": "stream",
     "text": [
      "transactions_new!!! :  {'sender': 'test_from', 'recipient': 'test_to3', 'amount': 300}\n",
      "MINING STARTED\n"
     ]
    },
    {
     "name": "stderr",
     "output_type": "stream",
     "text": [
      "127.0.0.1 - - [27/Feb/2024 19:11:14] \"GET /mine HTTP/1.1\" 200 -\n"
     ]
    },
    {
     "name": "stdout",
     "output_type": "stream",
     "text": [
      "MINING FINISHED\n"
     ]
    },
    {
     "name": "stderr",
     "output_type": "stream",
     "text": [
      "127.0.0.1 - - [27/Feb/2024 19:11:16] \"GET /chain HTTP/1.1\" 200 -\n"
     ]
    },
    {
     "name": "stdout",
     "output_type": "stream",
     "text": [
      "chain info requested!!\n"
     ]
    },
    {
     "name": "stderr",
     "output_type": "stream",
     "text": [
      "127.0.0.1 - - [27/Feb/2024 19:11:38] \"GET /chain HTTP/1.1\" 200 -\n"
     ]
    },
    {
     "name": "stdout",
     "output_type": "stream",
     "text": [
      "chain info requested!!\n"
     ]
    },
    {
     "name": "stderr",
     "output_type": "stream",
     "text": [
      "127.0.0.1 - - [27/Feb/2024 19:12:17] \"GET /chain HTTP/1.1\" 200 -\n"
     ]
    },
    {
     "name": "stdout",
     "output_type": "stream",
     "text": [
      "chain info requested!!\n"
     ]
    }
   ],
   "source": [
    "app = Flask(__name__)\n",
    "\n",
    "@app.route('/chain', methods=['GET'])\n",
    "def full_chain():\n",
    "    print(\"chain info requested!!\")\n",
    "    response = {\n",
    "        'chain' : blockchain.chain, \n",
    "        'length' : len(blockchain.chain), \n",
    "    }\n",
    "    return jsonify(response), 200\n",
    "\n",
    "@app.route('/transactions/new', methods=['POST'])\n",
    "def new_transaction():\n",
    "    values = request.get_json() \n",
    "    print(\"transactions_new!!! : \", values)\n",
    "    required = ['sender', 'recipient', 'amount'] \n",
    "\n",
    "    if not all(k in values for k in required):\n",
    "        return 'missing values', 400\n",
    "\n",
    "    index = blockchain.new_transaction(values['sender'],values['recipient'],\n",
    "values['amount'])\n",
    "        \n",
    "    response = {'message' : 'Transaction will be added to Block {%s}' % index}\n",
    "    return jsonify(response), 201\n",
    "\n",
    "\n",
    "@app.route('/mine', methods=['GET'])\n",
    "def mine():\n",
    "    print(\"MINING STARTED\")    \n",
    "    last_block = blockchain.last_block\n",
    "    last_proof = last_block['nonce']\n",
    "    proof = blockchain.pow(last_proof)  \n",
    "\n",
    "    blockchain.new_transaction(\n",
    "        sender=mine_owner, \n",
    "        recipient=node_identifier, \n",
    "        amount=mine_profit # coinbase transaction \n",
    "    )\n",
    " \n",
    "    previous_hash = blockchain.hash(last_block)\n",
    "    block = blockchain.new_block(proof, previous_hash)\n",
    "    print(\"MINING FINISHED\")\n",
    "\n",
    "    response = {\n",
    "        'message' : 'new block found',\n",
    "        'index' : block['index'],\n",
    "        'transactions' : block['transactions'],\n",
    "        'nonce' : block['nonce'],\n",
    "        'previous_hash' : block['previous_hash']\n",
    "    }\n",
    "          \n",
    "    return jsonify(response), 200\n",
    "\n",
    "\n",
    "if __name__ == '__main__':\n",
    "    app.run(host=my_ip, port=my_port)\n"
   ]
  },
  {
   "cell_type": "code",
   "execution_count": null,
   "id": "00882a2d",
   "metadata": {},
   "outputs": [],
   "source": []
  }
 ],
 "metadata": {
  "kernelspec": {
   "display_name": "Python 3 (ipykernel)",
   "language": "python",
   "name": "python3"
  },
  "language_info": {
   "codemirror_mode": {
    "name": "ipython",
    "version": 3
   },
   "file_extension": ".py",
   "mimetype": "text/x-python",
   "name": "python",
   "nbconvert_exporter": "python",
   "pygments_lexer": "ipython3",
   "version": "3.11.5"
  }
 },
 "nbformat": 4,
 "nbformat_minor": 5
}
