{
 "cells": [
  {
   "cell_type": "code",
   "execution_count": null,
   "id": "d1259ae9",
   "metadata": {},
   "outputs": [
    {
     "name": "stdout",
     "output_type": "stream",
     "text": [
      " * Serving Flask app '__main__'\n",
      " * Debug mode: off\n"
     ]
    },
    {
     "name": "stderr",
     "output_type": "stream",
     "text": [
      "WARNING: This is a development server. Do not use it in a production deployment. Use a production WSGI server instead.\n",
      " * Running on http://127.0.0.1:8080\n",
      "Press CTRL+C to quit\n",
      "127.0.0.1 - - [27/Feb/2024 19:12:17] \"GET / HTTP/1.1\" 200 -\n",
      "127.0.0.1 - - [27/Feb/2024 19:12:17] \"GET /static/img/mnulogo.png HTTP/1.1\" 304 -\n",
      "[2024-02-27 19:12:18,695] ERROR in app: Exception on /login [GET]\n",
      "Traceback (most recent call last):\n",
      "  File \"C:\\Users\\Rybbit\\anaconda3\\Lib\\site-packages\\flask\\app.py\", line 2525, in wsgi_app\n",
      "    response = self.full_dispatch_request()\n",
      "               ^^^^^^^^^^^^^^^^^^^^^^^^^^^^\n",
      "  File \"C:\\Users\\Rybbit\\anaconda3\\Lib\\site-packages\\flask\\app.py\", line 1822, in full_dispatch_request\n",
      "    rv = self.handle_user_exception(e)\n",
      "         ^^^^^^^^^^^^^^^^^^^^^^^^^^^^^\n",
      "  File \"C:\\Users\\Rybbit\\anaconda3\\Lib\\site-packages\\flask\\app.py\", line 1820, in full_dispatch_request\n",
      "    rv = self.dispatch_request()\n",
      "         ^^^^^^^^^^^^^^^^^^^^^^^\n",
      "  File \"C:\\Users\\Rybbit\\anaconda3\\Lib\\site-packages\\flask\\app.py\", line 1796, in dispatch_request\n",
      "    return self.ensure_sync(self.view_functions[rule.endpoint])(**view_args)\n",
      "           ^^^^^^^^^^^^^^^^^^^^^^^^^^^^^^^^^^^^^^^^^^^^^^^^^^^^^^^^^^^^^^^^^\n",
      "  File \"C:\\Users\\Rybbit\\AppData\\Local\\Temp\\ipykernel_24720\\830375144.py\", line 33, in login\n",
      "    return render_template('/login1.html')\n",
      "           ^^^^^^^^^^^^^^^^^^^^^^^^^^^^^^^\n",
      "  File \"C:\\Users\\Rybbit\\anaconda3\\Lib\\site-packages\\flask\\templating.py\", line 146, in render_template\n",
      "    template = app.jinja_env.get_or_select_template(template_name_or_list)\n",
      "               ^^^^^^^^^^^^^^^^^^^^^^^^^^^^^^^^^^^^^^^^^^^^^^^^^^^^^^^^^^^\n",
      "  File \"C:\\Users\\Rybbit\\anaconda3\\Lib\\site-packages\\jinja2\\environment.py\", line 1081, in get_or_select_template\n",
      "    return self.get_template(template_name_or_list, parent, globals)\n",
      "           ^^^^^^^^^^^^^^^^^^^^^^^^^^^^^^^^^^^^^^^^^^^^^^^^^^^^^^^^^\n",
      "  File \"C:\\Users\\Rybbit\\anaconda3\\Lib\\site-packages\\jinja2\\environment.py\", line 1010, in get_template\n",
      "    return self._load_template(name, globals)\n",
      "           ^^^^^^^^^^^^^^^^^^^^^^^^^^^^^^^^^^\n",
      "  File \"C:\\Users\\Rybbit\\anaconda3\\Lib\\site-packages\\jinja2\\environment.py\", line 969, in _load_template\n",
      "    template = self.loader.load(self, name, self.make_globals(globals))\n",
      "               ^^^^^^^^^^^^^^^^^^^^^^^^^^^^^^^^^^^^^^^^^^^^^^^^^^^^^^^^\n",
      "  File \"C:\\Users\\Rybbit\\anaconda3\\Lib\\site-packages\\jinja2\\loaders.py\", line 126, in load\n",
      "    source, filename, uptodate = self.get_source(environment, name)\n",
      "                                 ^^^^^^^^^^^^^^^^^^^^^^^^^^^^^^^^^^\n",
      "  File \"C:\\Users\\Rybbit\\anaconda3\\Lib\\site-packages\\flask\\templating.py\", line 62, in get_source\n",
      "    return self._get_source_fast(environment, template)\n",
      "           ^^^^^^^^^^^^^^^^^^^^^^^^^^^^^^^^^^^^^^^^^^^^\n",
      "  File \"C:\\Users\\Rybbit\\anaconda3\\Lib\\site-packages\\flask\\templating.py\", line 98, in _get_source_fast\n",
      "    raise TemplateNotFound(template)\n",
      "jinja2.exceptions.TemplateNotFound: /login1.html\n",
      "127.0.0.1 - - [27/Feb/2024 19:12:18] \"GET /login HTTP/1.1\" 500 -\n"
     ]
    }
   ],
   "source": [
    "from flask import Flask\n",
    "from datetime import datetime\n",
    "from flask import render_template\n",
    "import requests\n",
    "import os\n",
    "import json\n",
    "import pandas as pd\n",
    "\n",
    "app = Flask(__name__)\n",
    "\n",
    "# 현재 작업 디렉토리 내의 'templates' 폴더 경로 설정\n",
    "# template_dir = os.path.join(os.getcwd(), 'templates')\n",
    "# app = Flask(__name__, template_folder=template_dir)\n",
    "\n",
    "\n",
    "# 메인 페이지(블록스캔사이트)\n",
    "@app.route('/')\n",
    "def index():\n",
    "    headers = {'Content-Type' : 'application/json; charset=utf-8'}\n",
    "    # 블록 체인 내 블록 정보를 제공하는 url(http://localhost:5000/chain)에 request 방식으로 데이터를 요청\n",
    "    res = requests.get(\"http://localhost:5000/chain\", headers=headers)\n",
    "    # 요청 결과 데이터(res.text)를 json 으로 로드\n",
    "    status_json = json.loads(res.text)\n",
    "    # 결과 데이터를 pandas의 dataframe(df_scan)으로  정리\n",
    "    df_scan = pd.DataFrame(status_json['chain'] )\n",
    "     # Front 구성내용이 담길 html(one_node_scan.html)파일에 Dataframe 정보(df_scan)과 블록의 길이(block_len)을 제공\n",
    "    return render_template('scansite.html', df_scan = df_scan, block_len = len(df_scan))\n",
    "\n",
    "\n",
    "# 로그인 페이지\n",
    "@app.route('/login')\n",
    "def login():\n",
    "    return render_template('./login1.html')\n",
    "\n",
    "# SBOM 생성 페이지\n",
    "@app.route('/sbom')\n",
    "def sbom():\n",
    "    return render_template('sbom.html')\n",
    "\n",
    "app.run(port=8080)\n"
   ]
  },
  {
   "cell_type": "code",
   "execution_count": null,
   "id": "aef67cb6",
   "metadata": {},
   "outputs": [],
   "source": []
  },
  {
   "cell_type": "code",
   "execution_count": null,
   "id": "4da318d0",
   "metadata": {},
   "outputs": [],
   "source": []
  }
 ],
 "metadata": {
  "kernelspec": {
   "display_name": "Python 3 (ipykernel)",
   "language": "python",
   "name": "python3"
  },
  "language_info": {
   "codemirror_mode": {
    "name": "ipython",
    "version": 3
   },
   "file_extension": ".py",
   "mimetype": "text/x-python",
   "name": "python",
   "nbconvert_exporter": "python",
   "pygments_lexer": "ipython3",
   "version": "3.11.5"
  }
 },
 "nbformat": 4,
 "nbformat_minor": 5
}
