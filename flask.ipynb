{
 "cells": [
  {
   "cell_type": "code",
   "execution_count": null,
   "id": "d1259ae9",
   "metadata": {},
   "outputs": [
    {
     "name": "stdout",
     "output_type": "stream",
     "text": [
      " * Serving Flask app '__main__'\n",
      " * Debug mode: off\n"
     ]
    },
    {
     "name": "stderr",
     "output_type": "stream",
     "text": [
      "WARNING: This is a development server. Do not use it in a production deployment. Use a production WSGI server instead.\n",
      " * Running on http://127.0.0.1:5000\n",
      "Press CTRL+C to quit\n",
      "[2024-02-20 20:30:52,338] ERROR in app: Exception on / [GET]\n",
      "Traceback (most recent call last):\n",
      "  File \"C:\\Users\\Rybbit\\anaconda3\\Lib\\site-packages\\flask\\app.py\", line 2525, in wsgi_app\n",
      "    response = self.full_dispatch_request()\n",
      "               ^^^^^^^^^^^^^^^^^^^^^^^^^^^^\n",
      "  File \"C:\\Users\\Rybbit\\anaconda3\\Lib\\site-packages\\flask\\app.py\", line 1822, in full_dispatch_request\n",
      "    rv = self.handle_user_exception(e)\n",
      "         ^^^^^^^^^^^^^^^^^^^^^^^^^^^^^\n",
      "  File \"C:\\Users\\Rybbit\\anaconda3\\Lib\\site-packages\\flask\\app.py\", line 1820, in full_dispatch_request\n",
      "    rv = self.dispatch_request()\n",
      "         ^^^^^^^^^^^^^^^^^^^^^^^\n",
      "  File \"C:\\Users\\Rybbit\\anaconda3\\Lib\\site-packages\\flask\\app.py\", line 1796, in dispatch_request\n",
      "    return self.ensure_sync(self.view_functions[rule.endpoint])(**view_args)\n",
      "           ^^^^^^^^^^^^^^^^^^^^^^^^^^^^^^^^^^^^^^^^^^^^^^^^^^^^^^^^^^^^^^^^^\n",
      "  File \"C:\\Users\\Rybbit\\AppData\\Local\\Temp\\ipykernel_20216\\2342308456.py\", line 10, in index\n",
      "    return render_template('index.html')\n",
      "           ^^^^^^^^^^^^^^^^^^^^^^^^^^^^^\n",
      "  File \"C:\\Users\\Rybbit\\anaconda3\\Lib\\site-packages\\flask\\templating.py\", line 147, in render_template\n",
      "    return _render(app, template, context)\n",
      "           ^^^^^^^^^^^^^^^^^^^^^^^^^^^^^^^\n",
      "  File \"C:\\Users\\Rybbit\\anaconda3\\Lib\\site-packages\\flask\\templating.py\", line 130, in _render\n",
      "    rv = template.render(context)\n",
      "         ^^^^^^^^^^^^^^^^^^^^^^^^\n",
      "  File \"C:\\Users\\Rybbit\\anaconda3\\Lib\\site-packages\\jinja2\\environment.py\", line 1301, in render\n",
      "    self.environment.handle_exception()\n",
      "  File \"C:\\Users\\Rybbit\\anaconda3\\Lib\\site-packages\\jinja2\\environment.py\", line 936, in handle_exception\n",
      "    raise rewrite_traceback_stack(source=source)\n",
      "  File \"C:\\Users\\Rybbit\\OneDrive - 목포대학교\\Project\\캡스톤\\blockchain-project\\templates\\index.html\", line 148, in top-level template code\n",
      "    {%for i in range(0,block_len)%}\n",
      "    ^^^^^^^^^^^^^^^^^^^^^^^^^\n",
      "TypeError: 'Undefined' object cannot be interpreted as an integer\n",
      "127.0.0.1 - - [20/Feb/2024 20:30:52] \"GET / HTTP/1.1\" 500 -\n"
     ]
    }
   ],
   "source": [
    "from flask import Flask\n",
    "from datetime import datetime\n",
    "from flask import render_template\n",
    "\n",
    "app = Flask(__name__)\n",
    "\n",
    "\n",
    "@app.route('/')\n",
    "def index():\n",
    "     return render_template('index.html')\n",
    "\n",
    "\n",
    "app.run()\n"
   ]
  },
  {
   "cell_type": "code",
   "execution_count": null,
   "id": "aef67cb6",
   "metadata": {},
   "outputs": [],
   "source": []
  }
 ],
 "metadata": {
  "kernelspec": {
   "display_name": "Python 3 (ipykernel)",
   "language": "python",
   "name": "python3"
  },
  "language_info": {
   "codemirror_mode": {
    "name": "ipython",
    "version": 3
   },
   "file_extension": ".py",
   "mimetype": "text/x-python",
   "name": "python",
   "nbconvert_exporter": "python",
   "pygments_lexer": "ipython3",
   "version": "3.11.5"
  }
 },
 "nbformat": 4,
 "nbformat_minor": 5
}
