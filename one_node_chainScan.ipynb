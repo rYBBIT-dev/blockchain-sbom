{
 "cells": [
  {
   "cell_type": "code",
   "execution_count": null,
   "id": "a4458c2a",
   "metadata": {},
   "outputs": [
    {
     "name": "stdout",
     "output_type": "stream",
     "text": [
      " * Serving Flask app '__main__'\n",
      " * Debug mode: off\n"
     ]
    },
    {
     "name": "stderr",
     "output_type": "stream",
     "text": [
      "WARNING: This is a development server. Do not use it in a production deployment. Use a production WSGI server instead.\n",
      " * Running on http://127.0.0.1:8080\n",
      "Press CTRL+C to quit\n",
      "127.0.0.1 - - [21/Feb/2024 19:41:38] \"GET / HTTP/1.1\" 200 -\n",
      "127.0.0.1 - - [21/Feb/2024 19:41:38] \"GET /static/img/mnulogo.png HTTP/1.1\" 304 -\n",
      "127.0.0.1 - - [21/Feb/2024 19:41:38] \"GET /static/css/style.css HTTP/1.1\" 304 -\n",
      "127.0.0.1 - - [21/Feb/2024 19:41:38] \"GET /favicon.ico HTTP/1.1\" 404 -\n",
      "127.0.0.1 - - [21/Feb/2024 19:47:03] \"GET / HTTP/1.1\" 200 -\n",
      "127.0.0.1 - - [21/Feb/2024 19:47:03] \"GET /static/css/style.css HTTP/1.1\" 304 -\n",
      "127.0.0.1 - - [21/Feb/2024 19:47:03] \"GET /static/img/mnulogo.png HTTP/1.1\" 304 -\n",
      "127.0.0.1 - - [21/Feb/2024 19:48:04] \"GET / HTTP/1.1\" 200 -\n",
      "127.0.0.1 - - [21/Feb/2024 19:48:04] \"GET /static/css/style.css HTTP/1.1\" 304 -\n",
      "127.0.0.1 - - [21/Feb/2024 19:48:04] \"GET /static/img/mnulogo.png HTTP/1.1\" 304 -\n",
      "127.0.0.1 - - [21/Feb/2024 20:03:40] \"GET / HTTP/1.1\" 200 -\n",
      "127.0.0.1 - - [21/Feb/2024 20:03:40] \"GET /static/css/style.css HTTP/1.1\" 304 -\n",
      "127.0.0.1 - - [21/Feb/2024 20:03:40] \"GET /static/img/mnulogo.png HTTP/1.1\" 304 -\n",
      "127.0.0.1 - - [21/Feb/2024 20:03:56] \"GET / HTTP/1.1\" 200 -\n",
      "127.0.0.1 - - [21/Feb/2024 20:03:56] \"GET /static/css/style.css HTTP/1.1\" 304 -\n",
      "127.0.0.1 - - [21/Feb/2024 20:03:56] \"GET /static/img/mnulogo.png HTTP/1.1\" 304 -\n"
     ]
    }
   ],
   "source": [
    "from flask import Flask\n",
    "from datetime import datetime\n",
    "from flask import render_template\n",
    "import requests\n",
    "import os\n",
    "import json\n",
    "import pandas as pd\n",
    "\n",
    "app = Flask(__name__)\n",
    "\n",
    "# 현재 작업 디렉토리 내의 'templates' 폴더 경로 설정\n",
    "# template_dir = os.path.join(os.getcwd(), 'templates')\n",
    "# app = Flask(__name__, template_folder=template_dir)\n",
    "\n",
    "@app.route('/')\n",
    "def index():\n",
    "    headers = {'Content-Type' : 'application/json; charset=utf-8'}\n",
    "    # 블록 체인 내 블록 정보를 제공하는 url(http://localhost:5000/chain)에 request 방식으로 데이터를 요청\n",
    "    res = requests.get(\"http://localhost:5000/chain\", headers=headers)\n",
    "    # 요청 결과 데이터(res.text)를 json 으로 로드\n",
    "    status_json = json.loads(res.text)\n",
    "    # 결과 데이터를 pandas의 dataframe(df_scan)으로  정리\n",
    "    df_scan = pd.DataFrame(status_json['chain'] )\n",
    "     # Front 구성내용이 담길 html(one_node_scan.html)파일에 Dataframe 정보(df_scan)과 블록의 길이(block_len)을 제공\n",
    "    return render_template('index.html', df_scan = df_scan, block_len = len(df_scan))\n",
    "\n",
    "app.run(port=8080)"
   ]
  },
  {
   "cell_type": "code",
   "execution_count": null,
   "id": "d4608377",
   "metadata": {},
   "outputs": [],
   "source": []
  },
  {
   "cell_type": "code",
   "execution_count": null,
   "id": "5805dfb3",
   "metadata": {},
   "outputs": [],
   "source": [
    "headers = {'Content-Type' : 'application/json; charset=utf-8'}\n",
    "# 블록 체인의 블록 정보를 제공하는 url(http://localhost:5000/chain)에 request 방식으로 데이터를 요청\n",
    "res = requests.get(\"http://localhost:5000/chain\", headers=headers)\n",
    "# 요청 결과 데이터(res.text)를 json 으로 로드\n",
    "status_json = json.loads(res.text)\n",
    "# 결과 데이터를 pandas의 dataframe(df_scan)으로  정리    \n",
    "df_scan = pd.DataFrame(status_json['chain'] )\n",
    "df_scan"
   ]
  },
  {
   "cell_type": "code",
   "execution_count": null,
   "id": "85d8f405",
   "metadata": {},
   "outputs": [],
   "source": []
  },
  {
   "cell_type": "code",
   "execution_count": null,
   "id": "e15b51c3",
   "metadata": {},
   "outputs": [],
   "source": []
  },
  {
   "cell_type": "code",
   "execution_count": null,
   "id": "0afab7dc",
   "metadata": {},
   "outputs": [],
   "source": []
  },
  {
   "cell_type": "code",
   "execution_count": null,
   "id": "eddb61e6",
   "metadata": {},
   "outputs": [],
   "source": []
  },
  {
   "cell_type": "code",
   "execution_count": null,
   "id": "2f34e237",
   "metadata": {},
   "outputs": [],
   "source": [
    "\n",
    "\n",
    "\n",
    "@app.route('/')\n",
    "def index():\n",
    "    ## 1번 노드 상태 받기!! >> ㅇㅋㅇㅋ\n",
    "\n",
    "    headers = {'Content-Type' : 'application/json; charset=utf-8'}\n",
    "    res = requests.get(\"http://localhost:5000/chain\", headers=headers)\n",
    "    print(res.text )\n",
    "    print(\"*\"*8)\n",
    "    status_json = json.loads(res.text)\n",
    "    status_json['chain']    \n",
    "    tx_amount_l = []\n",
    "    tx_sender_l = []\n",
    "    tx_reciv_l  = []\n",
    "    tx_time_l   = []\n",
    "\n",
    "    for chain_index in range(len(status_json['chain'])):\n",
    "        chain_tx = status_json['chain'][chain_index]['transactions']\n",
    "        for each_tx in range(len(chain_tx)):\n",
    "            tx_amount_l.append(chain_tx[each_tx]['amount'])\n",
    "            tx_sender_l.append(chain_tx[each_tx]['sender'])\n",
    "            tx_reciv_l.append(chain_tx[each_tx]['recipient'])\n",
    "            tx_time_l.append(chain_tx[each_tx]['timestamp'])\n",
    "\n",
    "    df_tx = pd.DataFrame()\n",
    "    df_tx['timestamp'] = tx_time_l  \n",
    "    df_tx['sender'] = tx_sender_l \n",
    "    df_tx['recipient'] = tx_reciv_l\n",
    "    df_tx['amount'] = tx_amount_l   \n",
    "    df_tx\n",
    "\n",
    "\n",
    "\n",
    "    df_sended = pd.DataFrame(df_tx.groupby('sender')['amount'].sum()).reset_index()\n",
    "    df_sended.columns = ['user','sended_amount']\n",
    "    df_received= pd.DataFrame(df_tx.groupby('recipient')['amount'].sum()).reset_index()\n",
    "    df_received.columns = ['user','received_amount']\n",
    "    df_received\n",
    "\n",
    "    return render_template('one_node_scan.html', )\n",
    "\n",
    "\n",
    "app.run(port=8080)\n"
   ]
  },
  {
   "cell_type": "code",
   "execution_count": null,
   "id": "ac9cc7ca",
   "metadata": {},
   "outputs": [],
   "source": []
  }
 ],
 "metadata": {
  "kernelspec": {
   "display_name": "Python 3 (ipykernel)",
   "language": "python",
   "name": "python3"
  },
  "language_info": {
   "codemirror_mode": {
    "name": "ipython",
    "version": 3
   },
   "file_extension": ".py",
   "mimetype": "text/x-python",
   "name": "python",
   "nbconvert_exporter": "python",
   "pygments_lexer": "ipython3",
   "version": "3.11.5"
  }
 },
 "nbformat": 4,
 "nbformat_minor": 5
}
